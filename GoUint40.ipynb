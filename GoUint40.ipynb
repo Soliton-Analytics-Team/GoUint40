{
  "nbformat": 4,
  "nbformat_minor": 0,
  "metadata": {
    "colab": {
      "name": "GoUint40.ipynb",
      "provenance": [],
      "collapsed_sections": [
        "GYfuHygpbttG",
        "MBtcwrzGtnda",
        "NhfPBHYGWlCz",
        "DfoGbMe2n-kD",
        "CZ0PSaK8wp4H",
        "tKU0FWkXuLTf",
        "f2aVnJgkxPeK"
      ]
    },
    "kernelspec": {
      "name": "python3",
      "display_name": "Python 3"
    },
    "language_info": {
      "name": "python"
    }
  },
  "cells": [
    {
      "cell_type": "markdown",
      "metadata": {
        "id": "ivAui5C3uv-A"
      },
      "source": [
        "# Go言語で整数を5バイトに押し込む簡単なお仕事"
      ]
    },
    {
      "cell_type": "markdown",
      "metadata": {
        "id": "GYfuHygpbttG"
      },
      "source": [
        "## はじめに"
      ]
    },
    {
      "cell_type": "markdown",
      "metadata": {
        "id": "9FjHeNfhdtWM"
      },
      "source": [
        "ビックデータを処理するような場合、データの読み込みが律速になることが多いです。その場合、データのストレージ上のサイズが小さくなると読み込み時間が減り、全体の処理時間が半分になったりします。そんな時、整数が40bitで十分ならば、40bitで保持したいですね。というわけで、Go言語で整数を40bitでストレージに読み書きする方法について調べました。"
      ]
    },
    {
      "cell_type": "markdown",
      "metadata": {
        "id": "znwfzumogsmN"
      },
      "source": [
        "まずは、Go言語をインストールします。"
      ]
    },
    {
      "cell_type": "code",
      "metadata": {
        "colab": {
          "base_uri": "https://localhost:8080/"
        },
        "id": "bkvnvRGoizRj",
        "outputId": "09f45b42-d56d-4e54-f1ef-adfc35802ec0"
      },
      "source": [
        "!wget https://golang.org/dl/go1.17.2.linux-amd64.tar.gz\n",
        "!tar -C /usr/local -xzf go1.17.2.linux-amd64.tar.gz\n",
        "\n",
        "import os\n",
        "os.environ['PATH'] += \":/usr/local/go/bin\""
      ],
      "execution_count": null,
      "outputs": [
        {
          "output_type": "stream",
          "name": "stdout",
          "text": [
            "--2021-11-06 04:56:26--  https://golang.org/dl/go1.17.2.linux-amd64.tar.gz\n",
            "Resolving golang.org (golang.org)... 108.177.12.141, 2607:f8b0:400c:c08::8d\n",
            "Connecting to golang.org (golang.org)|108.177.12.141|:443... connected.\n",
            "HTTP request sent, awaiting response... 302 Found\n",
            "Location: https://dl.google.com/go/go1.17.2.linux-amd64.tar.gz [following]\n",
            "--2021-11-06 04:56:26--  https://dl.google.com/go/go1.17.2.linux-amd64.tar.gz\n",
            "Resolving dl.google.com (dl.google.com)... 173.194.215.136, 173.194.215.93, 173.194.215.91, ...\n",
            "Connecting to dl.google.com (dl.google.com)|173.194.215.136|:443... connected.\n",
            "HTTP request sent, awaiting response... 200 OK\n",
            "Length: 134803982 (129M) [application/x-gzip]\n",
            "Saving to: ‘go1.17.2.linux-amd64.tar.gz’\n",
            "\n",
            "go1.17.2.linux-amd6 100%[===================>] 128.56M   189MB/s    in 0.7s    \n",
            "\n",
            "2021-11-06 04:56:27 (189 MB/s) - ‘go1.17.2.linux-amd64.tar.gz’ saved [134803982/134803982]\n",
            "\n"
          ]
        }
      ]
    },
    {
      "cell_type": "code",
      "metadata": {
        "colab": {
          "base_uri": "https://localhost:8080/"
        },
        "id": "LqZNNDptjAQj",
        "outputId": "c4ed3fee-91b6-4f7e-f3eb-0383b46e2fb2"
      },
      "source": [
        "!go version"
      ],
      "execution_count": null,
      "outputs": [
        {
          "output_type": "stream",
          "name": "stdout",
          "text": [
            "go version go1.17.2 linux/amd64\n"
          ]
        }
      ]
    },
    {
      "cell_type": "markdown",
      "metadata": {
        "id": "MBtcwrzGtnda"
      },
      "source": [
        "## 64bit整数の8バイト配列化\n",
        "\n",
        "> unsafe.Pointerが最速\n"
      ]
    },
    {
      "cell_type": "markdown",
      "metadata": {
        "id": "nFQTM0MsgzVy"
      },
      "source": [
        "まずは64bitの整数をバイト配列にする方法を調べます。(以下では整数のエンコーディングはリトルエンディアンにします。特にunsafe.PointerがらみではビックエンディアンのCPUでは間違った動作になりますのでご注意ください。)\n",
        "\n",
        "愚直だとこうでしょうか。\n",
        "```\n",
        "for j := 0; j < 8; j += 1 {\n",
        "    buf[j] = byte((v >> (8 * j)) & 0xFF)\n",
        "}\n",
        "```"
      ]
    },
    {
      "cell_type": "code",
      "metadata": {
        "colab": {
          "base_uri": "https://localhost:8080/"
        },
        "id": "Ex48D-7Zlle8",
        "outputId": "b1559803-f596-419d-8ec8-78437968bea4"
      },
      "source": [
        "%%writefile measure.go\n",
        "package main\n",
        "\n",
        "import (\n",
        "\t\"fmt\"\n",
        "\t\"math/rand\"\n",
        "\t\"time\"\n",
        ")\n",
        "\n",
        "func main() {\n",
        "\tconst count = 10_000_000_000\n",
        "    const size = 100_000\n",
        "\tvar vs [size]uint64\n",
        "\tfor i := 0; i < size; i += 1 {\n",
        "\t\tvs[i] = uint64(rand.Intn(1<<40))\n",
        "    }\n",
        "\tbuf := make([][8]byte, size)\n",
        "\n",
        "\tstart := time.Now()\n",
        "\tfor i := 0; i < count; i += 1 {\n",
        "\t\tidx := i % size\n",
        "\t\tv := vs[idx]\n",
        "\t\tb := &buf[idx]\n",
        "\t\tfor j := 0; j < 8; j += 1 {\n",
        "\t\t\tb[j] = byte(v >> (8 * j))\n",
        "\t\t}\n",
        "\t}\n",
        "\tfmt.Println(time.Since(start))\n",
        "\n",
        " \t// 時間計測外の処理\n",
        "    fmt.Println(buf[0])\n",
        "\ttotal := 0\n",
        "\tfor i := 0; i < size; i += 1 {\n",
        "\t\tfor j := 0; j < 8; j += 1 {\n",
        "\t\t\t  total += int(buf[i][j])\n",
        "\t\t}\n",
        "\t}\n",
        "\tfmt.Println(total) \n",
        "}"
      ],
      "execution_count": null,
      "outputs": [
        {
          "output_type": "stream",
          "name": "stdout",
          "text": [
            "Overwriting measure.go\n"
          ]
        }
      ]
    },
    {
      "cell_type": "code",
      "metadata": {
        "colab": {
          "base_uri": "https://localhost:8080/"
        },
        "id": "IsQr8ocTm-GA",
        "outputId": "e58d1a55-653c-4807-f09d-242111925e45"
      },
      "source": [
        "!go run measure.go"
      ],
      "execution_count": null,
      "outputs": [
        {
          "output_type": "stream",
          "name": "stdout",
          "text": [
            "2m38.677863636s\n",
            "[82 253 252 7 33 0 0 0]\n",
            "63808521\n"
          ]
        }
      ]
    },
    {
      "cell_type": "markdown",
      "metadata": {
        "id": "QifXuPsdikpL"
      },
      "source": [
        "流石にfor文で1バイトずつ処理していたら遅いです。\n",
        "\n",
        "ちなみに、時間計測外の処理は、最適化による計測対象コードの削除防止と、処理の正しさの確認のために付与しています。\n"
      ]
    },
    {
      "cell_type": "markdown",
      "metadata": {
        "id": "Zs_-p1whkm1_"
      },
      "source": [
        "では定石通り、内側のfor文を展開しましょう。"
      ]
    },
    {
      "cell_type": "code",
      "metadata": {
        "colab": {
          "base_uri": "https://localhost:8080/"
        },
        "id": "Pp60AKTXnv1O",
        "outputId": "c3b27d08-b1ec-4f97-a592-6ece8d0fdf99"
      },
      "source": [
        "%%writefile measure.go\n",
        "package main\n",
        "\n",
        "import (\n",
        "\t\"fmt\"\n",
        "    \"math/rand\"\n",
        "\t\"time\"\n",
        ")\n",
        "\n",
        "func main() {\n",
        "\tconst count = 10_000_000_000\n",
        "    const size = 100_000\n",
        "\tvar vs [size]uint64\n",
        "\tfor i := 0; i < size; i += 1 {\n",
        "\t\tvs[i] = uint64(rand.Intn(1<<40))\n",
        "    }\n",
        "\tbuf := make([][8]byte, size)\n",
        "\n",
        "\tstart := time.Now()\n",
        "\tfor i := 0; i < count; i += 1 {\n",
        "        idx := i % size\n",
        "        v := vs[idx]\n",
        "        b := &buf[idx]\n",
        "        b[0] = byte(v)\n",
        "        b[1] = byte(v >> 8)\n",
        "        b[2] = byte(v >> 16)\n",
        "        b[3] = byte(v >> 24)\n",
        "        b[4] = byte(v >> 32)\n",
        "        b[5] = byte(v >> 40)\n",
        "        b[6] = byte(v >> 48)\n",
        "        b[7] = byte(v >> 56)\n",
        "\t}\n",
        "\tfmt.Println(time.Since(start))\n",
        "\n",
        " \t// 時間計測外の処理\n",
        "    fmt.Println(buf[0])\n",
        "\ttotal := 0\n",
        "\tfor i := 0; i < size; i += 1 {\n",
        "\t\tfor j := 0; j < 8; j += 1 {\n",
        "\t\t\t  total += int(buf[i][j])\n",
        "\t\t}\n",
        "\t}\n",
        "\tfmt.Println(total) \n",
        "}"
      ],
      "execution_count": null,
      "outputs": [
        {
          "output_type": "stream",
          "name": "stdout",
          "text": [
            "Overwriting measure.go\n"
          ]
        }
      ]
    },
    {
      "cell_type": "code",
      "metadata": {
        "colab": {
          "base_uri": "https://localhost:8080/"
        },
        "id": "27kOSELqoQvj",
        "outputId": "30df9855-17a8-4425-f0db-232196b0cdc3"
      },
      "source": [
        "!go run measure.go"
      ],
      "execution_count": null,
      "outputs": [
        {
          "output_type": "stream",
          "name": "stdout",
          "text": [
            "53.975493174s\n",
            "[82 253 252 7 33 0 0 0]\n",
            "63808521\n"
          ]
        }
      ]
    },
    {
      "cell_type": "markdown",
      "metadata": {
        "id": "tYdDsvebk3Qy"
      },
      "source": [
        "かなり高速化されました。まあ、for文で1バイトずつが遅すぎましたね。"
      ]
    },
    {
      "cell_type": "markdown",
      "metadata": {
        "id": "bpAomp1qlg6f"
      },
      "source": [
        "次にライブラリを使いましょう。encoding/binaryライブラリにはエンコーディングを指定した上で整数をバイト配列に書き込む関数が用意されています。"
      ]
    },
    {
      "cell_type": "code",
      "metadata": {
        "colab": {
          "base_uri": "https://localhost:8080/"
        },
        "id": "W-pj8e6KjNjN",
        "outputId": "2a7481fd-cc6d-4882-b773-c0f7b21347db"
      },
      "source": [
        "%%writefile measure.go\n",
        "package main\n",
        "\n",
        "import (\n",
        "\t\"encoding/binary\"\n",
        "\t\"fmt\"\n",
        "\t\"math/rand\"\n",
        "\t\"time\"\n",
        ")\n",
        "\n",
        "func main() {\n",
        "\tconst count = 10_000_000_000\n",
        "    const size = 100_000\n",
        "\tvar vs [size]uint64\n",
        "\tfor i := 0; i < size; i += 1 {\n",
        "\t\tvs[i] = uint64(rand.Intn(1<<40))\n",
        "    }\n",
        "\tbuf := make([][]byte, 0, size)\n",
        "\tfor i := 0; i < size; i += 1 {\n",
        "\t\tbuf = append(buf, make([]byte, 8))\n",
        "    }\n",
        "\n",
        "\tstart := time.Now()\n",
        "\tfor i := 0; i < count; i += 1 {\n",
        "\t\tidx := i % size\n",
        "\t\tbinary.LittleEndian.PutUint64(buf[idx], vs[idx])\n",
        "\t}\n",
        "\tfmt.Println(time.Since(start))\n",
        "\n",
        " \t// 時間計測外の処理\n",
        "    fmt.Println(buf[0])\n",
        "\ttotal := 0\n",
        "\tfor i := 0; i < size; i += 1 {\n",
        "\t\tfor j := 0; j < 8; j += 1 {\n",
        "\t\t\t  total += int(buf[i][j])\n",
        "\t\t}\n",
        "\t}\n",
        "\tfmt.Println(total) \n",
        "}"
      ],
      "execution_count": null,
      "outputs": [
        {
          "output_type": "stream",
          "name": "stdout",
          "text": [
            "Overwriting measure.go\n"
          ]
        }
      ]
    },
    {
      "cell_type": "code",
      "metadata": {
        "colab": {
          "base_uri": "https://localhost:8080/"
        },
        "id": "zPFFvmI1kJdT",
        "outputId": "0d784a9f-0931-4e4a-fa72-6a10c9874b80"
      },
      "source": [
        "!go run measure.go"
      ],
      "execution_count": null,
      "outputs": [
        {
          "output_type": "stream",
          "name": "stdout",
          "text": [
            "23.497865026s\n",
            "[82 253 252 7 33 0 0 0]\n",
            "63808521\n"
          ]
        }
      ]
    },
    {
      "cell_type": "markdown",
      "metadata": {
        "id": "jSEhLM8zmlPM"
      },
      "source": [
        "速くなりました。"
      ]
    },
    {
      "cell_type": "markdown",
      "metadata": {
        "id": "Sk0Hae15mwam"
      },
      "source": [
        "ここで禁断のunsafeが登場です。高速化のためにはunsafeは避けて通れません。"
      ]
    },
    {
      "cell_type": "code",
      "metadata": {
        "colab": {
          "base_uri": "https://localhost:8080/"
        },
        "id": "7UgAvjWXAebH",
        "outputId": "12457cb9-15a3-4816-99d6-075496b5147d"
      },
      "source": [
        "%%writefile measure.go\n",
        "package main\n",
        "\n",
        "import (\n",
        "\t\"fmt\"\n",
        "\t\"time\"\n",
        "\t\"math/rand\"\n",
        "    \"unsafe\"\n",
        ")\n",
        "\n",
        "func main() {\n",
        "\tconst count = 10_000_000_000\n",
        "    const size = 100_000\n",
        "\tvar vs [size]uint64\n",
        "\tfor i := 0; i < size; i += 1 {\n",
        "\t\tvs[i] = uint64(rand.Intn(1<<40))\n",
        "    }\n",
        "\tvar buf [size][8]byte\n",
        "\n",
        "\tstart := time.Now()\n",
        "\tfor i := 0; i < count; i += 1 {\n",
        "\t\tidx := i % size\n",
        "        *(*uint64)(unsafe.Pointer(&buf[idx][0])) = vs[idx]\n",
        "\t}\n",
        "\tfmt.Println(time.Since(start))\n",
        " \n",
        " \t// 時間計測外の処理\n",
        "    fmt.Println(buf[0])\n",
        "\ttotal := 0\n",
        "\tfor i := 0; i < size; i += 1 {\n",
        "\t\tfor j := 0; j < 8; j += 1 {\n",
        "\t\t\t  total += int(buf[i][j])\n",
        "\t\t}\n",
        "\t}\n",
        "\tfmt.Println(total)\n",
        "}"
      ],
      "execution_count": null,
      "outputs": [
        {
          "output_type": "stream",
          "name": "stdout",
          "text": [
            "Overwriting measure.go\n"
          ]
        }
      ]
    },
    {
      "cell_type": "code",
      "metadata": {
        "colab": {
          "base_uri": "https://localhost:8080/"
        },
        "id": "OEweCR2LAhBX",
        "outputId": "3c736f3d-2723-45af-e4d5-b1d5218c4292"
      },
      "source": [
        "!go run measure.go"
      ],
      "execution_count": null,
      "outputs": [
        {
          "output_type": "stream",
          "name": "stdout",
          "text": [
            "19.390149499s\n",
            "[82 253 252 7 33 0 0 0]\n",
            "63808521\n"
          ]
        }
      ]
    },
    {
      "cell_type": "markdown",
      "metadata": {
        "id": "wWdDJgbDnUox"
      },
      "source": [
        "さらに速くなりました。"
      ]
    },
    {
      "cell_type": "markdown",
      "metadata": {
        "id": "NhfPBHYGWlCz"
      },
      "source": [
        "## 8バイト配列から64bit整数への変換\n",
        "\n",
        "> unsafe.Pointerが最速"
      ]
    },
    {
      "cell_type": "markdown",
      "metadata": {
        "id": "vbWKY6DtikA8"
      },
      "source": [
        "8バイトの配列をリトルエンディアンとして64bitの整数に変換する素朴な実装は以下になります。"
      ]
    },
    {
      "cell_type": "code",
      "metadata": {
        "colab": {
          "base_uri": "https://localhost:8080/"
        },
        "id": "9Yxdbw8UMoII",
        "outputId": "3653adeb-96d2-4b89-82f2-27fa020c8d30"
      },
      "source": [
        "%%writefile measure.go\n",
        "package main\n",
        "\n",
        "import (\n",
        "\t\"fmt\"\n",
        "\t\"math/rand\"\n",
        "\t\"time\"\n",
        ")\n",
        "\n",
        "func main() {\n",
        "\tconst count = 10_000_000_000\n",
        "    const size = 100_000\n",
        "\tbuf := make([][]byte, size)\n",
        "    for i := 0; i < size; i += 1 {\n",
        "        buf[i] = []byte{byte(rand.Intn(256)),\n",
        "                        byte(rand.Intn(256)),\n",
        "                        byte(rand.Intn(256)),\n",
        "                        byte(rand.Intn(256)),\n",
        "                        byte(rand.Intn(256)),\n",
        "                        byte(rand.Intn(256)),\n",
        "                        byte(rand.Intn(256)),\n",
        "                        byte(rand.Intn(256))}\n",
        "    }\n",
        "\n",
        " \tstart := time.Now()\n",
        " \ttotal := uint64(0)\n",
        "\tfor i := 0; i < count; i += 1 {\n",
        "\t\tb := buf[i % size]\n",
        "        v := uint64(b[0])\n",
        "        for j := 1; j < 8; j += 1 {\n",
        "    \t\tv += uint64(b[j]) << (8 * j)\n",
        "        }\n",
        "        total += v\n",
        "\t}\n",
        "\tfmt.Println(time.Since(start))\n",
        " \n",
        "    fmt.Println(total)\n",
        "}"
      ],
      "execution_count": null,
      "outputs": [
        {
          "output_type": "stream",
          "name": "stdout",
          "text": [
            "Overwriting measure.go\n"
          ]
        }
      ]
    },
    {
      "cell_type": "code",
      "metadata": {
        "colab": {
          "base_uri": "https://localhost:8080/"
        },
        "id": "mESaGXD2Mn7I",
        "outputId": "ebab66b2-6056-4ccd-a26c-02956f22291a"
      },
      "source": [
        "!go run measure.go"
      ],
      "execution_count": null,
      "outputs": [
        {
          "output_type": "stream",
          "name": "stdout",
          "text": [
            "3m12.113526158s\n",
            "14225278786399272160\n"
          ]
        }
      ]
    },
    {
      "cell_type": "markdown",
      "metadata": {
        "id": "JC-v5gLQNhiE"
      },
      "source": [
        "次に内側のfor文を展開したもの。"
      ]
    },
    {
      "cell_type": "code",
      "metadata": {
        "colab": {
          "base_uri": "https://localhost:8080/"
        },
        "id": "skZFFgHgWlC5",
        "outputId": "e0deb0c9-faba-497f-f2ec-2dd3edd44557"
      },
      "source": [
        "%%writefile measure.go\n",
        "package main\n",
        "\n",
        "import (\n",
        "\t\"fmt\"\n",
        "\t\"math/rand\"\n",
        "\t\"time\"\n",
        ")\n",
        "\n",
        "func main() {\n",
        "\tconst count = 10_000_000_000\n",
        "    const size = 100_000\n",
        "\tbuf := make([][]byte, size)\n",
        "    for i := 0; i < size; i += 1 {\n",
        "        buf[i] = []byte{byte(rand.Intn(256)),\n",
        "                        byte(rand.Intn(256)),\n",
        "                        byte(rand.Intn(256)),\n",
        "                        byte(rand.Intn(256)),\n",
        "                        byte(rand.Intn(256)),\n",
        "                        byte(rand.Intn(256)),\n",
        "                        byte(rand.Intn(256)),\n",
        "                        byte(rand.Intn(256))}\n",
        "    }\n",
        "\n",
        " \tstart := time.Now()\n",
        " \ttotal := uint64(0)\n",
        "\tfor i := 0; i < count; i += 1 {\n",
        "\t\tb := buf[i % size]\n",
        "\t\tv := uint64(b[0])\n",
        "        v += uint64(b[1]) << 8\n",
        "        v += uint64(b[2]) << 16\n",
        "        v += uint64(b[3]) << 24\n",
        "        v += uint64(b[4]) << 32\n",
        "        v += uint64(b[5]) << 40\n",
        "        v += uint64(b[6]) << 48\n",
        "        v += uint64(b[7]) << 56\n",
        "        total += v\n",
        "\t}\n",
        "\tfmt.Println(time.Since(start))\n",
        " \n",
        "    fmt.Println(total)\n",
        "}"
      ],
      "execution_count": null,
      "outputs": [
        {
          "output_type": "stream",
          "name": "stdout",
          "text": [
            "Overwriting measure.go\n"
          ]
        }
      ]
    },
    {
      "cell_type": "code",
      "metadata": {
        "colab": {
          "base_uri": "https://localhost:8080/"
        },
        "id": "PU1k6iRxWlC6",
        "outputId": "2742b801-5126-4e10-8faa-24796e2232ea"
      },
      "source": [
        "!go run measure.go"
      ],
      "execution_count": null,
      "outputs": [
        {
          "output_type": "stream",
          "name": "stdout",
          "text": [
            "58.943894413s\n",
            "14225278786399272160\n"
          ]
        }
      ]
    },
    {
      "cell_type": "markdown",
      "metadata": {
        "id": "zMYVCZHCi9vz"
      },
      "source": [
        "それではライブラリを使ってみましょう。"
      ]
    },
    {
      "cell_type": "code",
      "metadata": {
        "colab": {
          "base_uri": "https://localhost:8080/"
        },
        "id": "awGTO_l04oou",
        "outputId": "898263f0-73a3-4d8f-898a-d2478e28094d"
      },
      "source": [
        "%%writefile measure.go\n",
        "package main\n",
        "\n",
        "import (\n",
        "\t\"encoding/binary\"\n",
        "\t\"fmt\"\n",
        "    \"math/rand\"\n",
        "\t\"time\"\n",
        ")\n",
        "\n",
        "func main() {\n",
        "\tconst count = 10_000_000_000\n",
        "    const size = 100_000\n",
        "\tbuf := make([][]byte, size)\n",
        "    for i := 0; i < size; i += 1 {\n",
        "        buf[i] = []byte{byte(rand.Intn(256)),\n",
        "                        byte(rand.Intn(256)),\n",
        "                        byte(rand.Intn(256)),\n",
        "                        byte(rand.Intn(256)),\n",
        "                        byte(rand.Intn(256)),\n",
        "                        byte(rand.Intn(256)),\n",
        "                        byte(rand.Intn(256)),\n",
        "                        byte(rand.Intn(256))}\n",
        "    }\n",
        "\n",
        "\tstart := time.Now()\n",
        "    total := uint64(0)\n",
        "\tfor i := 0; i < count; i += 1 {\n",
        "\t\ttotal += binary.LittleEndian.Uint64(buf[i % size])\n",
        "\t}\n",
        "\tfmt.Println(time.Since(start))\n",
        "\n",
        "    fmt.Println(total)\n",
        "}"
      ],
      "execution_count": null,
      "outputs": [
        {
          "output_type": "stream",
          "name": "stdout",
          "text": [
            "Overwriting measure.go\n"
          ]
        }
      ]
    },
    {
      "cell_type": "code",
      "metadata": {
        "colab": {
          "base_uri": "https://localhost:8080/"
        },
        "id": "2ZCvCjQw4n7X",
        "outputId": "c567b9db-521e-4904-ce4e-295b29428e60"
      },
      "source": [
        "!go run measure.go"
      ],
      "execution_count": null,
      "outputs": [
        {
          "output_type": "stream",
          "name": "stdout",
          "text": [
            "23.413276218s\n",
            "14225278786399272160\n"
          ]
        }
      ]
    },
    {
      "cell_type": "markdown",
      "metadata": {
        "id": "ye5K9ERqjxTq"
      },
      "source": [
        "相当速くなりました。\n",
        "\n",
        "次は`unsafe.Pointer()`による実装。"
      ]
    },
    {
      "cell_type": "code",
      "metadata": {
        "colab": {
          "base_uri": "https://localhost:8080/"
        },
        "id": "rmrV2-MIWlC6",
        "outputId": "84a41666-e7a3-4f8d-af05-d4c6373969a4"
      },
      "source": [
        "%%writefile measure.go\n",
        "package main\n",
        "\n",
        "import (\n",
        "\t\"fmt\"\n",
        "\t\"math/rand\"\n",
        "\t\"time\"\n",
        "    \"unsafe\"\n",
        ")\n",
        "\n",
        "func main() {\n",
        "\tconst count = 10_000_000_000\n",
        "    const size = 100_000\n",
        "\tbuf := make([][]byte, size)\n",
        "    for i := 0; i < size; i += 1 {\n",
        "        buf[i] = []byte{byte(rand.Intn(256)),\n",
        "                        byte(rand.Intn(256)),\n",
        "                        byte(rand.Intn(256)),\n",
        "                        byte(rand.Intn(256)),\n",
        "                        byte(rand.Intn(256)),\n",
        "                        byte(rand.Intn(256)),\n",
        "                        byte(rand.Intn(256)),\n",
        "                        byte(rand.Intn(256))}\n",
        "    }\n",
        "\n",
        "\tstart := time.Now()\n",
        "    total := uint64(0)\n",
        "\tfor i := 0; i < count; i += 1 {\n",
        "\t\ttotal += *(*uint64)(unsafe.Pointer(&buf[i % size][0]))\n",
        "\t}\n",
        "\tfmt.Println(time.Since(start))\n",
        "\n",
        "    fmt.Println(total)\n",
        "}"
      ],
      "execution_count": null,
      "outputs": [
        {
          "output_type": "stream",
          "name": "stdout",
          "text": [
            "Overwriting measure.go\n"
          ]
        }
      ]
    },
    {
      "cell_type": "code",
      "metadata": {
        "colab": {
          "base_uri": "https://localhost:8080/"
        },
        "id": "TLPsywyhWlC6",
        "outputId": "50d318c3-c677-483b-8b39-068e75f761bc"
      },
      "source": [
        "!go run measure.go"
      ],
      "execution_count": null,
      "outputs": [
        {
          "output_type": "stream",
          "name": "stdout",
          "text": [
            "21.003325074s\n",
            "14225278786399272160\n"
          ]
        }
      ]
    },
    {
      "cell_type": "markdown",
      "metadata": {
        "id": "2QaHbtaCWlC6"
      },
      "source": [
        "少しだけ速くなりました。ただ、CPUがリトルエンディアンである必要があることに注意してください。"
      ]
    },
    {
      "cell_type": "markdown",
      "metadata": {
        "id": "DfoGbMe2n-kD"
      },
      "source": [
        "## 40bit整数の5バイト配列化\n",
        "\n",
        "> for文を展開するのがおすすめ"
      ]
    },
    {
      "cell_type": "markdown",
      "metadata": {
        "id": "Q8FS-GS3M_mZ"
      },
      "source": [
        "次に40bit(5バイト)を考えましょう。64bitのデータから40bitを取り出す処理が必要です。\n",
        "\n",
        "まずは、内側のfor文を展開したもの。これは単純に複製するバイト数が減るので処理時間的には有利なはずです。"
      ]
    },
    {
      "cell_type": "code",
      "metadata": {
        "colab": {
          "base_uri": "https://localhost:8080/"
        },
        "id": "qweahygRlBoI",
        "outputId": "62096595-e059-487f-dc7d-cf78af69ed80"
      },
      "source": [
        "%%writefile measure.go\n",
        "package main\n",
        "\n",
        "import (\n",
        "\t\"fmt\"\n",
        "\t\"math/rand\"\n",
        "\t\"time\"\n",
        ")\n",
        "\n",
        "func main() {\n",
        "\tconst count = 10_000_000_000\n",
        "    const size = 100_000\n",
        "\tvar vs [size]uint64\n",
        "\tfor i := 0; i < size; i += 1 {\n",
        "\t\tvs[i] = uint64(rand.Intn(1<<40))\n",
        "    }\n",
        "\n",
        "\tvar buf [size][5]byte\n",
        "\n",
        "\tstart := time.Now()\n",
        "\tfor i := 0; i < count; i += 1 {\n",
        "\t\tidx := i % size\n",
        "\t\tv := vs[idx]\n",
        "\t\tb := &buf[idx]\n",
        "        b[0] = byte(v)\n",
        "        b[1] = byte(v >> 8)\n",
        "        b[2] = byte(v >> 16)\n",
        "        b[3] = byte(v >> 24)\n",
        "        b[4] = byte(v >> 32)\n",
        "\t}\n",
        "\tfmt.Println(time.Since(start))\n",
        " \n",
        " \t// 時間計測外の処理\n",
        "    fmt.Println(buf[0])\n",
        "\ttotal := 0\n",
        "\tfor i := 0; i < size; i += 1 {\n",
        "\t\tfor j := 0; j < 5; j += 1 {\n",
        "\t\t\t  total += int(buf[i][j])\n",
        "\t\t}\n",
        "\t}\n",
        "\tfmt.Println(total)\n",
        "}"
      ],
      "execution_count": null,
      "outputs": [
        {
          "output_type": "stream",
          "name": "stdout",
          "text": [
            "Overwriting measure.go\n"
          ]
        }
      ]
    },
    {
      "cell_type": "code",
      "metadata": {
        "colab": {
          "base_uri": "https://localhost:8080/"
        },
        "id": "-UuEdwCxqPXx",
        "outputId": "663878b4-557a-4f48-bac6-95f724c28ccf"
      },
      "source": [
        "!go run measure.go"
      ],
      "execution_count": null,
      "outputs": [
        {
          "output_type": "stream",
          "name": "stdout",
          "text": [
            "19.68491868s\n",
            "[82 253 252 7 33]\n",
            "63808521\n"
          ]
        }
      ]
    },
    {
      "cell_type": "markdown",
      "metadata": {
        "id": "BLnNXY8fo84R"
      },
      "source": [
        "処理時間は64bit整数の時の5/8よりだいぶ短いです。格納するバッファの大きさが小さくなったのが影響している可能性があります。"
      ]
    },
    {
      "cell_type": "markdown",
      "metadata": {
        "id": "0ZA-tvRepFnP"
      },
      "source": [
        "次はライブラリ使用です。`PutUint64()`は引数に８バイト以上のスライスしかとれないので、`copy(dst, src)`を使って8バイトに書き込んだworkから５バイト分コピーします。"
      ]
    },
    {
      "cell_type": "code",
      "metadata": {
        "colab": {
          "base_uri": "https://localhost:8080/"
        },
        "id": "zb2OgyGOqR1g",
        "outputId": "d3912355-9496-44d2-a42f-f4c5d46a33db"
      },
      "source": [
        "%%writefile measure.go\n",
        "package main\n",
        "\n",
        "import (\n",
        "\t\"encoding/binary\"\n",
        "\t\"fmt\"\n",
        "\t\"math/rand\"\n",
        "\t\"time\"\n",
        ")\n",
        "\n",
        "func main() {\n",
        "\tconst count = 10_000_000_000\n",
        "    const size = 100_000\n",
        "\tvar vs [size]uint64\n",
        "\tvar buf [size][]byte\n",
        "\tfor i := 0; i < size; i += 1 {\n",
        "\t\tvs[i] = uint64(rand.Intn(1<<40))\n",
        "\t\tbuf[i] = make([]byte, 5)\n",
        "    }\n",
        "\n",
        "\twork := make([]byte, 8)\n",
        "\n",
        "\tstart := time.Now()\n",
        "\tfor i := 0; i < count; i += 1 {\n",
        "\t\tidx := i % size\n",
        "\t\tbinary.LittleEndian.PutUint64(work, vs[idx])\n",
        "        copy(buf[idx], work[:5])\n",
        "\t}\n",
        "\tfmt.Println(time.Since(start))\n",
        " \n",
        " \t// 時間計測外の処理\n",
        "    fmt.Println(buf[0])\n",
        "\ttotal := 0\n",
        "\tfor i := 0; i < size; i += 1 {\n",
        "\t\tfor j := 0; j < 5; j += 1 {\n",
        "\t\t\t  total += int(buf[i][j])\n",
        "\t\t}\n",
        "\t}\n",
        "\tfmt.Println(total)\n",
        " }"
      ],
      "execution_count": null,
      "outputs": [
        {
          "output_type": "stream",
          "name": "stdout",
          "text": [
            "Overwriting measure.go\n"
          ]
        }
      ]
    },
    {
      "cell_type": "code",
      "metadata": {
        "colab": {
          "base_uri": "https://localhost:8080/"
        },
        "id": "H3S_CZEgrENG",
        "outputId": "50e55719-322c-4b49-a4d5-e4df0c7899c9"
      },
      "source": [
        "!go run measure.go"
      ],
      "execution_count": null,
      "outputs": [
        {
          "output_type": "stream",
          "name": "stdout",
          "text": [
            "58.38629299s\n",
            "[82 253 252 7 33]\n",
            "63808521\n"
          ]
        }
      ]
    },
    {
      "cell_type": "markdown",
      "metadata": {
        "id": "WuJ9pP7Bpo_z"
      },
      "source": [
        "遅くなりました。やはり複製は重たい。\n",
        "\n",
        "unsafe.Pointer()ではどうでしょうか。"
      ]
    },
    {
      "cell_type": "code",
      "metadata": {
        "colab": {
          "base_uri": "https://localhost:8080/"
        },
        "id": "kpBIoT1FFKAM",
        "outputId": "2a44c59f-cd06-43fe-893a-407b14781a1e"
      },
      "source": [
        "%%writefile measure.go\n",
        "package main\n",
        "\n",
        "import (\n",
        "\t\"fmt\"\n",
        "\t\"time\"\n",
        "\t\"math/rand\"\n",
        "    \"unsafe\"\n",
        ")\n",
        "\n",
        "func main() {\n",
        "\tconst count = 10_000_000_000\n",
        "    const size = 100_000\n",
        "\tvar vs [size]uint64\n",
        "\tvar buf [size][]byte\n",
        "\tfor i := 0; i < size; i += 1 {\n",
        "\t\tvs[i] = uint64(rand.Intn(1<<40))\n",
        "\t\tbuf[i] = make([]byte, 5)\n",
        "    }\n",
        "\n",
        "\tvar work [8]byte\n",
        " \n",
        "\tstart := time.Now()\n",
        "\tfor i := 0; i < count; i += 1 {\n",
        "\t\tidx := i % size\n",
        "\t\t*(*uint64)(unsafe.Pointer(&work[0])) = vs[idx]\n",
        "        copy(buf[idx], work[:5])\n",
        "\t}\n",
        "\tfmt.Println(time.Since(start))\n",
        " \n",
        " \t// 時間計測外の処理\n",
        "    fmt.Println(buf[0])\n",
        "\ttotal := 0\n",
        "\tfor i := 0; i < size; i += 1 {\n",
        "\t\tfor j := 0; j < 5; j += 1 {\n",
        "\t\t\t  total += int(buf[i][j])\n",
        "\t\t}\n",
        "\t}\n",
        "\tfmt.Println(total)\n",
        "}"
      ],
      "execution_count": null,
      "outputs": [
        {
          "output_type": "stream",
          "name": "stdout",
          "text": [
            "Overwriting measure.go\n"
          ]
        }
      ]
    },
    {
      "cell_type": "code",
      "metadata": {
        "colab": {
          "base_uri": "https://localhost:8080/"
        },
        "id": "UAaH7Bv6FPU2",
        "outputId": "b7d6eeac-916b-42aa-fdd3-c37b2cd31a25"
      },
      "source": [
        "!go run measure.go"
      ],
      "execution_count": null,
      "outputs": [
        {
          "output_type": "stream",
          "name": "stdout",
          "text": [
            "58.45078368s\n",
            "[82 253 252 7 33]\n",
            "63808521\n"
          ]
        }
      ]
    },
    {
      "cell_type": "markdown",
      "metadata": {
        "id": "J-L7xF9xqPvg"
      },
      "source": [
        "ライブラリ使用と同じです。複製の処理が律速になっているようです。\n",
        "\n",
        "複製はせずに、読み込む時に5バイトだけ取り出すようにしたらどうでしょうか。"
      ]
    },
    {
      "cell_type": "code",
      "metadata": {
        "colab": {
          "base_uri": "https://localhost:8080/"
        },
        "id": "LBbTK6OPsKRu",
        "outputId": "421e828b-5192-484b-f9ef-db8722651ff9"
      },
      "source": [
        "%%writefile measure.go\n",
        "package main\n",
        "\n",
        "import (\n",
        "\t\"fmt\"\n",
        "\t\"time\"\n",
        "\t\"math/rand\"\n",
        "    \"unsafe\"\n",
        ")\n",
        "\n",
        "func main() {\n",
        "\tconst count = 10_000_000_000\n",
        "    const size = 100_000\n",
        "\tvar vs [size]uint64\n",
        "\tfor i := 0; i < size; i += 1 {\n",
        "\t\tvs[i] = uint64(rand.Intn(1<<40))\n",
        "    }\n",
        "\n",
        "\tvar buf [8]byte\n",
        "\ttotal := uint64(0)\n",
        "\n",
        "\tstart := time.Now()\n",
        "\tfor i := 0; i < count; i += 1 {\n",
        "\t\tidx := i % size\n",
        "\t\t*(*uint64)(unsafe.Pointer(&buf[0])) = vs[idx]\n",
        "        total += *(*uint64)(unsafe.Pointer(&buf[0])) & 0xFF_FFFF_FFFF\n",
        "\t}\n",
        "\tfmt.Println(time.Since(start))\n",
        " \n",
        "    fmt.Println(buf, total)\n",
        "}"
      ],
      "execution_count": null,
      "outputs": [
        {
          "output_type": "stream",
          "name": "stdout",
          "text": [
            "Overwriting measure.go\n"
          ]
        }
      ]
    },
    {
      "cell_type": "code",
      "metadata": {
        "colab": {
          "base_uri": "https://localhost:8080/"
        },
        "id": "8bm2lsTvsMVB",
        "outputId": "3be0a843-be3d-42f1-8bd1-e3ae1a863b5f"
      },
      "source": [
        "!go run measure.go"
      ],
      "execution_count": null,
      "outputs": [
        {
          "output_type": "stream",
          "name": "stdout",
          "text": [
            "21.197289328s\n",
            "[25 237 192 70 183 0 0 0] 5692317074739218432\n"
          ]
        }
      ]
    },
    {
      "cell_type": "markdown",
      "metadata": {
        "id": "wF4dPSvosLQf"
      },
      "source": [
        "少し速くなりましたが、for文の展開には及びません。\n",
        "\n",
        "0xFF_FFFF_FFFFのマスクを工夫してみます。"
      ]
    },
    {
      "cell_type": "code",
      "metadata": {
        "colab": {
          "base_uri": "https://localhost:8080/"
        },
        "id": "kS6XThgXnz4K",
        "outputId": "ac27866b-3179-477b-a953-a252d7851f51"
      },
      "source": [
        "%%writefile measure.go\n",
        "package main\n",
        "\n",
        "import (\n",
        "\t\"fmt\"\n",
        "\t\"time\"\n",
        "\t\"math/rand\"\n",
        "    \"unsafe\"\n",
        ")\n",
        "\n",
        "func main() {\n",
        "\tconst count = 10_000_000_000\n",
        "    const size = 100_000\n",
        "\tvar vs [size]uint64\n",
        "\tfor i := 0; i < size; i += 1 {\n",
        "\t\tvs[i] = uint64(rand.Intn(1<<40))\n",
        "    }\n",
        "\n",
        "\tvar buf [8]byte\n",
        "\ttotal := uint64(0)\n",
        "\n",
        "\tstart := time.Now()\n",
        "\tfor i := 0; i < count; i += 1 {\n",
        "\t\tidx := i % size\n",
        "\t\t*(*uint64)(unsafe.Pointer(&buf[0])) = vs[idx]\n",
        "        total += uint64(*(*uint32)(unsafe.Pointer(&buf[0]))) + uint64(buf[4]) << 32\n",
        "\t}\n",
        "\tfmt.Println(time.Since(start))\n",
        " \n",
        "    fmt.Println(buf, total)\n",
        "}"
      ],
      "execution_count": null,
      "outputs": [
        {
          "output_type": "stream",
          "name": "stdout",
          "text": [
            "Overwriting measure.go\n"
          ]
        }
      ]
    },
    {
      "cell_type": "code",
      "metadata": {
        "colab": {
          "base_uri": "https://localhost:8080/"
        },
        "id": "zgr-mJUfnzvl",
        "outputId": "b2497031-f9d7-4a3e-ffa2-448683dd5d04"
      },
      "source": [
        "!go run measure.go"
      ],
      "execution_count": null,
      "outputs": [
        {
          "output_type": "stream",
          "name": "stdout",
          "text": [
            "21.769480346s\n",
            "[25 237 192 70 183 0 0 0] 5692317074739218432\n"
          ]
        }
      ]
    },
    {
      "cell_type": "markdown",
      "metadata": {
        "id": "y-oGRvrDpdSw"
      },
      "source": [
        "ほぼ同じです。"
      ]
    },
    {
      "cell_type": "markdown",
      "metadata": {
        "id": "CZ0PSaK8wp4H"
      },
      "source": [
        "## 5バイト配列から40bit整数への変換\n",
        "\n",
        "> `v = uint64(binary.LittleEndian.Uint32(buf)) + uint64(buf[4]) << 32`がおすすめ"
      ]
    },
    {
      "cell_type": "markdown",
      "metadata": {
        "id": "SHzN2uevziYX"
      },
      "source": [
        "5バイトの配列を40bitの整数として読み出します。まずは素朴な実装から。"
      ]
    },
    {
      "cell_type": "code",
      "metadata": {
        "colab": {
          "base_uri": "https://localhost:8080/"
        },
        "id": "1RFrQvcSWDel",
        "outputId": "43a921c9-b769-4526-ad52-4b1998df3f3d"
      },
      "source": [
        "%%writefile measure.go\n",
        "package main\n",
        "\n",
        "import (\n",
        "\t\"fmt\"\n",
        "\t\"math/rand\"\n",
        "\t\"time\"\n",
        ")\n",
        "\n",
        "func main() {\n",
        "\tconst count = 10_000_000_000\n",
        "    const size = 100_000\n",
        "\tvar buf [size][]byte\n",
        "    for i := 0; i < size; i += 1 {\n",
        "        buf[i] = []byte{byte(rand.Intn(256)),\n",
        "                        byte(rand.Intn(256)),\n",
        "                        byte(rand.Intn(256)),\n",
        "                        byte(rand.Intn(256)),\n",
        "                        byte(rand.Intn(256))}\n",
        "    }\n",
        "\n",
        " \tstart := time.Now()\n",
        " \ttotal := uint64(0)\n",
        "\tfor i := 0; i < count; i += 1 {\n",
        "        b := buf[i % size]\n",
        "\t\tv := uint64(b[0])\n",
        "        v += uint64(b[1]) << 8\n",
        "        v += uint64(b[2]) << 16\n",
        "        v += uint64(b[3]) << 24\n",
        "        v += uint64(b[4]) << 32\n",
        "        total += v\n",
        "\t}\n",
        "\tfmt.Println(time.Since(start))\n",
        " \n",
        "    fmt.Println(total)\n",
        "}"
      ],
      "execution_count": null,
      "outputs": [
        {
          "output_type": "stream",
          "name": "stdout",
          "text": [
            "Overwriting measure.go\n"
          ]
        }
      ]
    },
    {
      "cell_type": "code",
      "metadata": {
        "colab": {
          "base_uri": "https://localhost:8080/"
        },
        "id": "5ubuHsZxWDFf",
        "outputId": "d532029e-a1cc-49a3-8e31-76453cfbbadd"
      },
      "source": [
        "!go run measure.go"
      ],
      "execution_count": null,
      "outputs": [
        {
          "output_type": "stream",
          "name": "stdout",
          "text": [
            "41.299993282s\n",
            "14634206628677970048\n"
          ]
        }
      ]
    },
    {
      "cell_type": "markdown",
      "metadata": {
        "id": "vEaI9exuzxC3"
      },
      "source": [
        "素朴な実装では配列から整数に戻す方が時間がかかるようです。\n",
        "\n",
        "ライブラリ使用ではどうでしょうか。"
      ]
    },
    {
      "cell_type": "code",
      "metadata": {
        "colab": {
          "base_uri": "https://localhost:8080/"
        },
        "id": "QXNcP31xrUav",
        "outputId": "8f215a20-d4b8-44d3-a3b4-7259ff32b497"
      },
      "source": [
        "%%writefile measure.go\n",
        "package main\n",
        "\n",
        "import (\n",
        "\t\"encoding/binary\"\n",
        "\t\"fmt\"\n",
        "\t\"math/rand\"\n",
        "\t\"time\"\n",
        ")\n",
        "\n",
        "func main() {\n",
        "\tconst count = 10_000_000_000\n",
        "    const size = 100_000\n",
        "\tvar buf [size][]byte\n",
        "    for i := 0; i < size; i += 1 {\n",
        "        buf[i] = []byte{byte(rand.Intn(256)),\n",
        "                        byte(rand.Intn(256)),\n",
        "                        byte(rand.Intn(256)),\n",
        "                        byte(rand.Intn(256)),\n",
        "                        byte(rand.Intn(256)), 0, 0, 0}\n",
        "    }\n",
        "\n",
        "\tstart := time.Now()\n",
        " \ttotal := uint64(0)\n",
        "\tfor i := 0; i < count; i += 1 {\n",
        "\t\ttotal += binary.LittleEndian.Uint64(buf[i % size]) & 0xFF_FFFF_FFFF\n",
        "\t}\n",
        "\tfmt.Println(time.Since(start))\n",
        " \n",
        "    fmt.Println(total)\n",
        "}"
      ],
      "execution_count": null,
      "outputs": [
        {
          "output_type": "stream",
          "name": "stdout",
          "text": [
            "Overwriting measure.go\n"
          ]
        }
      ]
    },
    {
      "cell_type": "code",
      "metadata": {
        "colab": {
          "base_uri": "https://localhost:8080/"
        },
        "id": "YQJWOMgYCqno",
        "outputId": "aa0103b6-dc83-4ddc-f5a3-5486c920b39a"
      },
      "source": [
        "!go run measure.go"
      ],
      "execution_count": null,
      "outputs": [
        {
          "output_type": "stream",
          "name": "stdout",
          "text": [
            "23.548602268s\n",
            "14634206628677970048\n"
          ]
        }
      ]
    },
    {
      "cell_type": "markdown",
      "metadata": {
        "id": "ctqc8TYUlcO5"
      },
      "source": [
        "改善しました。ただ、ライブラリを利用するために、配列を５バイトではなく8バイトに水増しするズルをしています。\n",
        "\n",
        "0xFF_FFFF_FFFFでマスクする処理を変更してみましょう。配列の前半4バイトを32bitの整数として、5バイト目を32ビットずらして加算することでマスク処理を回避します。"
      ]
    },
    {
      "cell_type": "code",
      "metadata": {
        "colab": {
          "base_uri": "https://localhost:8080/"
        },
        "id": "J_ZvOwo_mAGx",
        "outputId": "32633bd5-7e7c-4827-ae6d-fb2af723146b"
      },
      "source": [
        "%%writefile measure.go\n",
        "package main\n",
        "\n",
        "import (\n",
        "\t\"encoding/binary\"\n",
        "\t\"fmt\"\n",
        "\t\"math/rand\"\n",
        "\t\"time\"\n",
        ")\n",
        "\n",
        "func main() {\n",
        "\tconst count = 10_000_000_000\n",
        "    const size = 100_000\n",
        "\tvar buf [size][]byte\n",
        "    for i := 0; i < size; i += 1 {\n",
        "        buf[i] = []byte{byte(rand.Intn(256)),\n",
        "                        byte(rand.Intn(256)),\n",
        "                        byte(rand.Intn(256)),\n",
        "                        byte(rand.Intn(256)),\n",
        "                        byte(rand.Intn(256))}\n",
        "    }\n",
        "\n",
        "\tstart := time.Now()\n",
        " \ttotal := uint64(0)\n",
        "\tfor i := 0; i < count; i += 1 {\n",
        "\t\tb := buf[i % size]\n",
        "\t\ttotal += uint64(binary.LittleEndian.Uint32(b)) + uint64(b[4]) << 32\n",
        "\t}\n",
        "\tfmt.Println(time.Since(start))\n",
        " \n",
        "    fmt.Println(total)\n",
        "}"
      ],
      "execution_count": null,
      "outputs": [
        {
          "output_type": "stream",
          "name": "stdout",
          "text": [
            "Overwriting measure.go\n"
          ]
        }
      ]
    },
    {
      "cell_type": "code",
      "metadata": {
        "colab": {
          "base_uri": "https://localhost:8080/"
        },
        "id": "7DaVjiWPl_w3",
        "outputId": "4605f145-673e-4288-ab40-37e45104a508"
      },
      "source": [
        "!go run measure.go"
      ],
      "execution_count": null,
      "outputs": [
        {
          "output_type": "stream",
          "name": "stdout",
          "text": [
            "27.59320372s\n",
            "14634206628677970048\n"
          ]
        }
      ]
    },
    {
      "cell_type": "markdown",
      "metadata": {
        "id": "HToo60IT07qd"
      },
      "source": [
        "少し遅くなりました。ただ、こちらは8バイトへの水増しが不要です。\n",
        "\n",
        "`unsafe.Pointer()`を使った場合はどうでしょうか。"
      ]
    },
    {
      "cell_type": "code",
      "metadata": {
        "colab": {
          "base_uri": "https://localhost:8080/"
        },
        "id": "FQOFH_o7XERv",
        "outputId": "104ef6e0-14bb-44b4-9ec7-a72e8841cccd"
      },
      "source": [
        "%%writefile measure.go\n",
        "package main\n",
        "\n",
        "import (\n",
        "\t\"fmt\"\n",
        "\t\"math/rand\"\n",
        "\t\"time\"\n",
        "    \"unsafe\"\n",
        ")\n",
        "\n",
        "func main() {\n",
        "\tconst count = 10_000_000_000\n",
        "    const size = 100_000\n",
        "\tvar buf [size][]byte\n",
        "    for i := 0; i < size; i += 1 {\n",
        "        buf[i] = []byte{byte(rand.Intn(256)),\n",
        "                        byte(rand.Intn(256)),\n",
        "                        byte(rand.Intn(256)),\n",
        "                        byte(rand.Intn(256)),\n",
        "                        byte(rand.Intn(256)), 0, 0, 0}\n",
        "    }\n",
        "\n",
        " \tstart := time.Now()\n",
        " \ttotal := uint64(0)\n",
        "\tfor i := 0; i < count; i += 1 {\n",
        "\t\ttotal += *(*uint64)(unsafe.Pointer(&buf[i % size][0])) & 0xFF_FFFF_FFFF\n",
        "\t}\n",
        "\tfmt.Println(time.Since(start))\n",
        " \n",
        "    fmt.Println(total)\n",
        "}"
      ],
      "execution_count": null,
      "outputs": [
        {
          "output_type": "stream",
          "name": "stdout",
          "text": [
            "Overwriting measure.go\n"
          ]
        }
      ]
    },
    {
      "cell_type": "code",
      "metadata": {
        "colab": {
          "base_uri": "https://localhost:8080/"
        },
        "id": "YDX2YrtdXEOS",
        "outputId": "7e251304-feb8-4fd0-9ec2-a7472e1003c6"
      },
      "source": [
        "!go run measure.go"
      ],
      "execution_count": null,
      "outputs": [
        {
          "output_type": "stream",
          "name": "stdout",
          "text": [
            "23.796240568s\n",
            "14634206628677970048\n"
          ]
        }
      ]
    },
    {
      "cell_type": "markdown",
      "metadata": {
        "id": "8Pbt6WIo1SAD"
      },
      "source": [
        "ほぼ同じです。"
      ]
    },
    {
      "cell_type": "code",
      "metadata": {
        "colab": {
          "base_uri": "https://localhost:8080/"
        },
        "id": "s0uVI9PCm3Ry",
        "outputId": "335bf090-edf1-4e68-852d-7392f9dcd393"
      },
      "source": [
        "%%writefile measure.go\n",
        "package main\n",
        "\n",
        "import (\n",
        "\t\"fmt\"\n",
        "\t\"math/rand\"\n",
        "\t\"time\"\n",
        "    \"unsafe\"\n",
        ")\n",
        "\n",
        "func main() {\n",
        "\tconst count = 10_000_000_000\n",
        "    const size = 100000\n",
        "\tvar buf [size][]byte\n",
        "    for i := 0; i < size; i += 1 {\n",
        "        buf[i] = []byte{byte(rand.Intn(256)),\n",
        "                        byte(rand.Intn(256)),\n",
        "                        byte(rand.Intn(256)),\n",
        "                        byte(rand.Intn(256)),\n",
        "                        byte(rand.Intn(256))}\n",
        "    }\n",
        "\n",
        " \tstart := time.Now()\n",
        " \ttotal := uint64(0)\n",
        "\tfor i := 0; i < count; i += 1 {\n",
        "\t\tb := buf[i % size]\n",
        "\t\ttotal += uint64(*(*uint32)(unsafe.Pointer(&b[0]))) + (uint64(b[4]) << 32)\n",
        "\t}\n",
        "\tfmt.Println(time.Since(start))\n",
        " \n",
        "    fmt.Println(total)\n",
        "}"
      ],
      "execution_count": null,
      "outputs": [
        {
          "output_type": "stream",
          "name": "stdout",
          "text": [
            "Overwriting measure.go\n"
          ]
        }
      ]
    },
    {
      "cell_type": "code",
      "metadata": {
        "colab": {
          "base_uri": "https://localhost:8080/"
        },
        "id": "nFyql6tEm3Fp",
        "outputId": "45a4001c-2e4d-49e3-9d24-ce0b5d5fc7bf"
      },
      "source": [
        "!go run measure.go"
      ],
      "execution_count": null,
      "outputs": [
        {
          "output_type": "stream",
          "name": "stdout",
          "text": [
            "27.796737582s\n",
            "14634206628677970048\n"
          ]
        }
      ]
    },
    {
      "cell_type": "markdown",
      "metadata": {
        "id": "5W0hVGGz1ZvO"
      },
      "source": [
        "ライブラリと同程度です。CPUがリトルエンディアンである必要もあることですし、わざわざu`nsafe.Pointer()`を使う意味はないようです。"
      ]
    },
    {
      "cell_type": "markdown",
      "metadata": {
        "id": "tKU0FWkXuLTf"
      },
      "source": [
        "## 40bit整数の配列の5Nバイト配列化\n",
        "\n",
        "> `*(*uint64)(unsafe.Pointer(&buf[j])) = v`がおすすめ"
      ]
    },
    {
      "cell_type": "markdown",
      "metadata": {
        "id": "Qs3MQ7WuuwE_"
      },
      "source": [
        "次に整数の配列をバイト配列化する場合を測定しましょう。10万個の整数を5バイトずつのバイト配列にします。\n",
        "\n",
        "1バイトずつ書き写す素朴な処理は以下になります。"
      ]
    },
    {
      "cell_type": "code",
      "metadata": {
        "colab": {
          "base_uri": "https://localhost:8080/"
        },
        "id": "zXEVXYLmNFO4",
        "outputId": "11c0b833-4c0f-4419-e0f2-aba3377a0aa8"
      },
      "source": [
        "%%writefile measure.go\n",
        "package main\n",
        "\n",
        "import (\n",
        "\t\"fmt\"\n",
        "\t\"math/rand\"\n",
        "\t\"time\"\n",
        ")\n",
        "\n",
        "func main() {\n",
        "\tconst count = 100_000\n",
        "    const size = 100_000\n",
        "    var ans [size]uint64\n",
        "    for i := 0; i < size; i += 1 {\n",
        "    \tans[i] = uint64(rand.Intn(1<<40))\n",
        "    }\n",
        "\tvar buf [size * 5]byte\n",
        " \n",
        "\tstart := time.Now()\n",
        "\tfor i := 0; i < count; i += 1 {\n",
        "        for j := 0; j < size; j += 1 {\n",
        "            v := ans[j]\n",
        "            b := buf[(j*5):(j*5+5)]\n",
        "            b[0] = byte(v)\n",
        "            b[1] = byte(v >> 8)\n",
        "            b[2] = byte(v >> 16)\n",
        "            b[3] = byte(v >> 24)\n",
        "            b[4] = byte(v >> 32)\n",
        "        }\n",
        "\t}\n",
        "\tfmt.Println(time.Since(start))\n",
        " \n",
        "    total := uint64(0)\n",
        "    for i := 0; i < size * 5; i += 1 {\n",
        "        total += uint64(buf[i])\n",
        "    }\n",
        "    fmt.Println(total)\n",
        "}"
      ],
      "execution_count": null,
      "outputs": [
        {
          "output_type": "stream",
          "name": "stdout",
          "text": [
            "Overwriting measure.go\n"
          ]
        }
      ]
    },
    {
      "cell_type": "code",
      "metadata": {
        "colab": {
          "base_uri": "https://localhost:8080/"
        },
        "id": "tojiuGWwNFLC",
        "outputId": "1d5cb832-ab3d-4b70-bf53-698e3b33c3f1"
      },
      "source": [
        "!go run measure.go"
      ],
      "execution_count": null,
      "outputs": [
        {
          "output_type": "stream",
          "name": "stdout",
          "text": [
            "15.780206613s\n",
            "63808521\n"
          ]
        }
      ]
    },
    {
      "cell_type": "markdown",
      "metadata": {
        "id": "rdJW4yJiv47M"
      },
      "source": [
        "これが基準となります。ただし、時間を測定する繰り返しが10万回になっていることに注意してください。"
      ]
    },
    {
      "cell_type": "markdown",
      "metadata": {
        "id": "3rmltu4wdp6O"
      },
      "source": [
        "Go言語には上記のように１バイトずつ書き込むほかには、４バイトずつ、あるいは、８バイトずつ書き込むモジュールがあります。`binary.LittleEndian.PutUint32()`と`binary.LittleEndian.PutUint64()`です。これらはCPUがネイティブで複製命令を持つサイズであるため、高速に実行されます。しかし、5バイトを書き込むものはありません。そこでリトルエンディアンの並びを利用して、以下のように5バイトずらしながら8バイトずつ書き込むことで所望の結果を得ます。"
      ]
    },
    {
      "cell_type": "markdown",
      "metadata": {
        "id": "i60NjXX7bTR_"
      },
      "source": [
        "<image width=500 src=\"data:image/png;base64,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\">"
      ]
    },
    {
      "cell_type": "markdown",
      "metadata": {
        "id": "Z0OiX6SPgkOU"
      },
      "source": [
        "以下がそのコードです。"
      ]
    },
    {
      "cell_type": "code",
      "metadata": {
        "colab": {
          "base_uri": "https://localhost:8080/"
        },
        "id": "Pv8bIvMF3Bv0",
        "outputId": "4794e6f7-28cb-4524-9dbe-6a2a0e74b694"
      },
      "source": [
        "%%writefile measure.go\n",
        "package main\n",
        "\n",
        "import (\n",
        "    \"encoding/binary\"\n",
        "\t\"fmt\"\n",
        "\t\"math/rand\"\n",
        "\t\"time\"\n",
        ")\n",
        "\n",
        "func main() {\n",
        "\tconst count = 100_000\n",
        "    const size = 100_000\n",
        "    var ans [size]uint64\n",
        "    for i := 0; i < size; i += 1 {\n",
        "    \tans[i] = uint64(rand.Intn(1<<40))\n",
        "    }\n",
        "\tvar buf [size * 5 + 3]byte\n",
        " \n",
        "\tstart := time.Now()\n",
        "\tfor i := 0; i < count; i += 1 {\n",
        "        for j := 0; j < size; j += 1 {\n",
        "            binary.LittleEndian.PutUint64(buf[j*5:], ans[j])\n",
        "        }\n",
        "\t}\n",
        "\tfmt.Println(time.Since(start))\n",
        " \n",
        "    total := uint64(0)\n",
        "    for i := 0; i < size * 5; i += 1 {\n",
        "        total += uint64(buf[i])\n",
        "    }\n",
        "    fmt.Println(total)\n",
        "}"
      ],
      "execution_count": null,
      "outputs": [
        {
          "output_type": "stream",
          "name": "stdout",
          "text": [
            "Overwriting measure.go\n"
          ]
        }
      ]
    },
    {
      "cell_type": "code",
      "metadata": {
        "colab": {
          "base_uri": "https://localhost:8080/"
        },
        "id": "4e99P7uA3BjX",
        "outputId": "81daa780-85cc-4656-a3f4-c211684aba0d"
      },
      "source": [
        "!go run measure.go"
      ],
      "execution_count": null,
      "outputs": [
        {
          "output_type": "stream",
          "name": "stdout",
          "text": [
            "15.698051493s\n",
            "63808521\n"
          ]
        }
      ]
    },
    {
      "cell_type": "markdown",
      "metadata": {
        "id": "0stFFveTgxKD"
      },
      "source": [
        "素朴な実装とほぼ同じです。"
      ]
    },
    {
      "cell_type": "markdown",
      "metadata": {
        "id": "LvM4MBzMhJfR"
      },
      "source": [
        "次は`unsafe.Pointer()`で実装します。"
      ]
    },
    {
      "cell_type": "code",
      "metadata": {
        "colab": {
          "base_uri": "https://localhost:8080/"
        },
        "id": "jbZ_yhqSNEsm",
        "outputId": "81a4a54f-3b4e-4b6e-85d1-735de37b8fcf"
      },
      "source": [
        "%%writefile measure.go\n",
        "package main\n",
        "\n",
        "import (\n",
        "\t\"fmt\"\n",
        "\t\"math/rand\"\n",
        "\t\"time\"\n",
        "    \"unsafe\"\n",
        ")\n",
        "\n",
        "func main() {\n",
        "\tconst count = 100_000\n",
        "    const size = 100_000\n",
        "    var ans [size]uint64\n",
        "    for i := 0; i < size; i += 1 {\n",
        "    \tans[i] = uint64(rand.Intn(1<<40))\n",
        "    }\n",
        "\tvar buf [size * 5 + 3]byte\n",
        "\n",
        "\tstart := time.Now()\n",
        "\tfor i := 0; i < count; i += 1 {\n",
        "        for j := 0; j < size; j += 1 {\n",
        "            *(*uint64)(unsafe.Pointer(&buf[j*5])) = ans[j]\n",
        "        }\n",
        "\t}\n",
        "\tfmt.Println(time.Since(start))\n",
        " \n",
        "    total := uint64(0)\n",
        "    for i := 0; i < size * 5; i += 1 {\n",
        "        total += uint64(buf[i])\n",
        "    }\n",
        "    fmt.Println(total)\n",
        "}"
      ],
      "execution_count": null,
      "outputs": [
        {
          "output_type": "stream",
          "name": "stdout",
          "text": [
            "Overwriting measure.go\n"
          ]
        }
      ]
    },
    {
      "cell_type": "code",
      "metadata": {
        "colab": {
          "base_uri": "https://localhost:8080/"
        },
        "id": "hnhAwHnUNEfS",
        "outputId": "c79f8b26-dd15-49d9-e6c9-ccf97fccd08d"
      },
      "source": [
        "!go run measure.go"
      ],
      "execution_count": null,
      "outputs": [
        {
          "output_type": "stream",
          "name": "stdout",
          "text": [
            "11.661442364s\n",
            "63808521\n"
          ]
        }
      ]
    },
    {
      "cell_type": "markdown",
      "metadata": {
        "id": "urUpYc6DhdVH"
      },
      "source": [
        "いよいよ本領を発揮しました。速いです。"
      ]
    },
    {
      "cell_type": "markdown",
      "metadata": {
        "id": "f2aVnJgkxPeK"
      },
      "source": [
        "## 5Nバイト配列から40bit整数の配列への変換\n",
        "\n",
        "> `v = uint64(*(*uint32)(unsafe.Pointer(&buf[j]))) + uint64(buf[j+4]) << 32`がおすすめ"
      ]
    },
    {
      "cell_type": "markdown",
      "metadata": {
        "id": "jortepMd2dqx"
      },
      "source": [
        "40bit整数が並んだバイト配列から整数を読み出す場合を測定しましょう。5バイトずつのバイト配列から10万個の整数を読み出します。素朴な実装は以下になります。"
      ]
    },
    {
      "cell_type": "code",
      "metadata": {
        "colab": {
          "base_uri": "https://localhost:8080/"
        },
        "id": "k6Ii8iHL6fb_",
        "outputId": "860b9f57-3aa6-44dc-ae56-5e469ba9e84c"
      },
      "source": [
        "%%writefile measure.go\n",
        "package main\n",
        "\n",
        "import (\n",
        "\t\"fmt\"\n",
        "\t\"math/rand\"\n",
        "\t\"time\"\n",
        "    \"unsafe\"\n",
        ")\n",
        "\n",
        "func main() {\n",
        "\tconst count = 100_000\n",
        "    const size = 100_000\n",
        "    var ans [size]uint64\n",
        "    for i := 0; i < size; i += 1 {\n",
        "    \tans[i] = uint64(rand.Intn(1<<40))\n",
        "    }\n",
        "\tvar buf [size * 5]byte\n",
        " \n",
        "    for j := 0; j < size; j += 1 {\n",
        "        v := ans[j]\n",
        "        *(*uint64)(unsafe.Pointer(&buf[j*5])) = v\n",
        "    }\n",
        "\n",
        "\tstart := time.Now()\n",
        "    total := uint64(0)\n",
        "    for i := 0; i < count; i += 1 {\n",
        "        for j := 0; j < size * 5; j += 5 {\n",
        "            b := buf[j:j+5]\n",
        "            v := uint64(b[0])\n",
        "            v += uint64(b[1]) << 8\n",
        "            v += uint64(b[2]) << 16\n",
        "            v += uint64(b[3]) << 24\n",
        "            v += uint64(b[4]) << 32\n",
        "            total += v\n",
        "        }\n",
        "\t}\n",
        "\tfmt.Println(time.Since(start))\n",
        " \n",
        "    fmt.Println(total)\n",
        "}"
      ],
      "execution_count": null,
      "outputs": [
        {
          "output_type": "stream",
          "name": "stdout",
          "text": [
            "Overwriting measure.go\n"
          ]
        }
      ]
    },
    {
      "cell_type": "code",
      "metadata": {
        "colab": {
          "base_uri": "https://localhost:8080/"
        },
        "id": "An0lc5e86fNC",
        "outputId": "77cf3dec-bfed-4df9-eec4-63815713d3a5"
      },
      "source": [
        "!go run measure.go"
      ],
      "execution_count": null,
      "outputs": [
        {
          "output_type": "stream",
          "name": "stdout",
          "text": [
            "23.22765755s\n",
            "5692317074739218432\n"
          ]
        }
      ]
    },
    {
      "cell_type": "markdown",
      "metadata": {
        "id": "xjfoFiax6G3z"
      },
      "source": [
        "これが基準になります。"
      ]
    },
    {
      "cell_type": "markdown",
      "metadata": {
        "id": "vSkttSUs6PN_"
      },
      "source": [
        "次にライブラリ使用で、5バイトのマスク。"
      ]
    },
    {
      "cell_type": "code",
      "metadata": {
        "colab": {
          "base_uri": "https://localhost:8080/"
        },
        "id": "ZeLUP1czXEKW",
        "outputId": "fff0e873-2173-4bec-9234-578d5d983516"
      },
      "source": [
        "%%writefile measure.go\n",
        "package main\n",
        "\n",
        "import (\n",
        "    \"encoding/binary\"\n",
        "\t\"fmt\"\n",
        "\t\"math/rand\"\n",
        "\t\"time\"\n",
        "    \"unsafe\"\n",
        ")\n",
        "\n",
        "func main() {\n",
        "\tconst count = 100_000\n",
        "    const size = 100_000\n",
        "    var ans [size]uint64\n",
        "    for i := 0; i < size; i += 1 {\n",
        "    \tans[i] = uint64(rand.Intn(1<<40))\n",
        "    }\n",
        "\tvar buf [size * 5 + 3]byte\n",
        " \n",
        "    for j := 0; j < size; j += 1 {\n",
        "        v := ans[j]\n",
        "        *(*uint64)(unsafe.Pointer(&buf[j*5])) = v\n",
        "    }\n",
        "\n",
        "\tstart := time.Now()\n",
        "    total := uint64(0)\n",
        "    for i := 0; i < count; i += 1 {\n",
        "        for j := 0; j < size * 5; j += 5 {\n",
        "            total += binary.LittleEndian.Uint64(buf[j:]) & 0xFF_FFFF_FFFF\n",
        "        }\n",
        "\t}\n",
        "\tfmt.Println(time.Since(start))\n",
        " \n",
        "    fmt.Println(total)\n",
        "}"
      ],
      "execution_count": null,
      "outputs": [
        {
          "output_type": "stream",
          "name": "stdout",
          "text": [
            "Overwriting measure.go\n"
          ]
        }
      ]
    },
    {
      "cell_type": "code",
      "metadata": {
        "colab": {
          "base_uri": "https://localhost:8080/"
        },
        "id": "OaOAriu1XEHL",
        "outputId": "996a6af1-83f6-4f5a-f316-7e796975950a"
      },
      "source": [
        "!go run measure.go"
      ],
      "execution_count": null,
      "outputs": [
        {
          "output_type": "stream",
          "name": "stdout",
          "text": [
            "19.396402761s\n",
            "5692317074739218432\n"
          ]
        }
      ]
    },
    {
      "cell_type": "markdown",
      "metadata": {
        "id": "umb_oKyr6X0e"
      },
      "source": [
        "少し改善。ただ、bufの領域を3バイト増やしています。\n",
        "\n",
        "次はマスク外し。"
      ]
    },
    {
      "cell_type": "code",
      "metadata": {
        "colab": {
          "base_uri": "https://localhost:8080/"
        },
        "id": "9cAbHi4g0wl3",
        "outputId": "af4302ef-51d7-4286-ebe9-1ee2437d328c"
      },
      "source": [
        "%%writefile measure.go\n",
        "package main\n",
        "\n",
        "import (\n",
        "    \"encoding/binary\"\n",
        "\t\"fmt\"\n",
        "\t\"math/rand\"\n",
        "\t\"time\"\n",
        "    \"unsafe\"\n",
        ")\n",
        "\n",
        "func main() {\n",
        "\tconst count = 100_000\n",
        "    const size = 100_000\n",
        "    var ans [size]uint64\n",
        "    for i := 0; i < size; i += 1 {\n",
        "    \tans[i] = uint64(rand.Intn(1<<40))\n",
        "    }\n",
        "\tvar buf [size * 5]byte\n",
        " \n",
        "    for j := 0; j < size; j += 1 {\n",
        "        v := ans[j]\n",
        "        *(*uint64)(unsafe.Pointer(&buf[j*5])) = v\n",
        "    }\n",
        "\n",
        "\tstart := time.Now()\n",
        "    total := uint64(0)\n",
        "\tfor i := 0; i < count; i += 1 {\n",
        "        for j := 0; j < size * 5; j += 5 {\n",
        "            total += uint64(binary.LittleEndian.Uint32(buf[j:])) + uint64(buf[j+4]) << 32\n",
        "        }\n",
        "\t}\n",
        "\tfmt.Println(time.Since(start))\n",
        "\n",
        "    fmt.Println(total)\n",
        "}"
      ],
      "execution_count": null,
      "outputs": [
        {
          "output_type": "stream",
          "name": "stdout",
          "text": [
            "Overwriting measure.go\n"
          ]
        }
      ]
    },
    {
      "cell_type": "code",
      "metadata": {
        "colab": {
          "base_uri": "https://localhost:8080/"
        },
        "id": "eXnnOe7w0wYg",
        "outputId": "225fbe6e-281d-46b0-df2c-eaab2ce25c22"
      },
      "source": [
        "!go run measure.go"
      ],
      "execution_count": null,
      "outputs": [
        {
          "output_type": "stream",
          "name": "stdout",
          "text": [
            "19.430706015s\n",
            "5692317074739218432\n"
          ]
        }
      ]
    },
    {
      "cell_type": "markdown",
      "metadata": {
        "id": "aPDwnj-J6hBJ"
      },
      "source": [
        "ほぼ同じ。ただ、bufの領域はsize*5です。\n",
        "\n",
        "次は`unsafe.Pointer()`かつ5バイトマスク。"
      ]
    },
    {
      "cell_type": "code",
      "metadata": {
        "colab": {
          "base_uri": "https://localhost:8080/"
        },
        "id": "PaSn_OfJXD9J",
        "outputId": "1408b174-2e24-437e-a449-1b79f12ab2b1"
      },
      "source": [
        "%%writefile measure.go\n",
        "package main\n",
        "\n",
        "import (\n",
        "\t\"fmt\"\n",
        "\t\"math/rand\"\n",
        "\t\"time\"\n",
        "    \"unsafe\"\n",
        ")\n",
        "\n",
        "func main() {\n",
        "\tconst count = 100_000\n",
        "    const size = 100_000\n",
        "    var ans [size]uint64\n",
        "    for i := 0; i < size; i += 1 {\n",
        "    \tans[i] = uint64(rand.Intn(1<<40))\n",
        "    }\n",
        "\tvar buf [size * 5 + 3]byte\n",
        " \n",
        "    for j := 0; j < size; j += 1 {\n",
        "        v := ans[j]\n",
        "        *(*uint64)(unsafe.Pointer(&buf[j*5])) = v\n",
        "    }\n",
        "\n",
        "\tstart := time.Now()\n",
        "    total := uint64(0)\n",
        "\tfor i := 0; i < count; i += 1 {\n",
        "        for j := 0; j < size * 5; j += 5 {\n",
        "            total += *(*uint64)(unsafe.Pointer(&buf[j])) & 0xFF_FFFF_FFFF\n",
        "        }\n",
        "\t}\n",
        "\tfmt.Println(time.Since(start))\n",
        "\n",
        "    fmt.Println(total)\n",
        "}"
      ],
      "execution_count": null,
      "outputs": [
        {
          "output_type": "stream",
          "name": "stdout",
          "text": [
            "Overwriting measure.go\n"
          ]
        }
      ]
    },
    {
      "cell_type": "code",
      "metadata": {
        "colab": {
          "base_uri": "https://localhost:8080/"
        },
        "id": "nxv7bFbYXD5d",
        "outputId": "a0298626-1945-4925-977c-a9f8ea507eb7"
      },
      "source": [
        "!go run measure.go"
      ],
      "execution_count": null,
      "outputs": [
        {
          "output_type": "stream",
          "name": "stdout",
          "text": [
            "11.731955237s\n",
            "5692317074739218432\n"
          ]
        }
      ]
    },
    {
      "cell_type": "markdown",
      "metadata": {
        "id": "iL3sDQNg6yJs"
      },
      "source": [
        "改善。ただ、bufは3バイト追加しています。\n",
        "\n",
        "最後にマスク外し。"
      ]
    },
    {
      "cell_type": "code",
      "metadata": {
        "colab": {
          "base_uri": "https://localhost:8080/"
        },
        "id": "kwqIs7nzXDwh",
        "outputId": "a6809ce1-25e5-48f5-e8d1-078fd81d8dea"
      },
      "source": [
        "%%writefile measure.go\n",
        "package main\n",
        "\n",
        "import (\n",
        "\t\"fmt\"\n",
        "\t\"math/rand\"\n",
        "\t\"time\"\n",
        "    \"unsafe\"\n",
        ")\n",
        "\n",
        "func main() {\n",
        "\tconst count = 100_000\n",
        "    const size = 100_000\n",
        "    var ans [size]uint64\n",
        "    for i := 0; i < size; i += 1 {\n",
        "    \tans[i] = uint64(rand.Intn(1<<40))\n",
        "    }\n",
        "\tvar buf [size * 5]byte\n",
        " \n",
        "    for j := 0; j < size; j += 1 {\n",
        "        v := ans[j]\n",
        "        *(*uint64)(unsafe.Pointer(&buf[j*5])) = v\n",
        "    }\n",
        "\n",
        "\tstart := time.Now()\n",
        "    total := uint64(0)\n",
        "\tfor i := 0; i < count; i += 1 {\n",
        "        for j := 0; j < size * 5; j += 5 {\n",
        "            total += uint64(*(*uint32)(unsafe.Pointer(&buf[j]))) + uint64(buf[j+4]) << 32\n",
        "        }\n",
        "\t}\n",
        "\tfmt.Println(time.Since(start))\n",
        "\n",
        "    fmt.Println(total)\n",
        "}"
      ],
      "execution_count": null,
      "outputs": [
        {
          "output_type": "stream",
          "name": "stdout",
          "text": [
            "Overwriting measure.go\n"
          ]
        }
      ]
    },
    {
      "cell_type": "code",
      "metadata": {
        "colab": {
          "base_uri": "https://localhost:8080/"
        },
        "id": "8FeK4Ew8XDlR",
        "outputId": "be505890-b6ac-4226-fba2-2b389de031c7"
      },
      "source": [
        "!go run measure.go"
      ],
      "execution_count": null,
      "outputs": [
        {
          "output_type": "stream",
          "name": "stdout",
          "text": [
            "11.740410912s\n",
            "5692317074739218432\n"
          ]
        }
      ]
    },
    {
      "cell_type": "markdown",
      "metadata": {
        "id": "Hi5WAr057bms"
      },
      "source": [
        "速度はほぼ同じ。ただ、bufのサイズはsize*5です。\n",
        "\n",
        "結局、大きな配列に連続して40bit整数を書き込んだり読み込んだりするのには`unsafe.Pointer()`が有効でした。"
      ]
    }
  ]
}